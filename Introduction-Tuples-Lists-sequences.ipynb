{
 "cells": [
  {
   "cell_type": "markdown",
   "metadata": {},
   "source": [
    "### Initiation à la Programmation avec Python"
   ]
  },
  {
   "cell_type": "markdown",
   "metadata": {},
   "source": [
    "### 0- Mon Premier programme Python:"
   ]
  },
  {
   "cell_type": "code",
   "execution_count": 1,
   "metadata": {
    "collapsed": false
   },
   "outputs": [
    {
     "name": "stdout",
     "output_type": "stream",
     "text": [
      "Bienvenue dans ce cours...!!!\n"
     ]
    }
   ],
   "source": [
    "print(\"Bienvenue dans ce cours...!!!\")"
   ]
  },
  {
   "cell_type": "markdown",
   "metadata": {},
   "source": [
    "#### Assignation:"
   ]
  },
  {
   "cell_type": "code",
   "execution_count": 2,
   "metadata": {
    "collapsed": false
   },
   "outputs": [
    {
     "name": "stdout",
     "output_type": "stream",
     "text": [
      "la valeur de y est:  15\n"
     ]
    }
   ],
   "source": [
    "y=15\n",
    "# y: le nom de la variable\n",
    "# 15: la valeur assignée à la variable y\n",
    "print(\"la valeur de y est: \", y)"
   ]
  },
  {
   "cell_type": "markdown",
   "metadata": {},
   "source": [
    "### 1-Opérateurs avec python:\n",
    "##### 1-1 Opérateurs logiques:\n"
   ]
  },
  {
   "cell_type": "markdown",
   "metadata": {},
   "source": [
    "##### OU logique:"
   ]
  },
  {
   "cell_type": "code",
   "execution_count": 26,
   "metadata": {
    "collapsed": false
   },
   "outputs": [
    {
     "name": "stdout",
     "output_type": "stream",
     "text": [
      "hello\n"
     ]
    }
   ],
   "source": [
    "y=5\n",
    "x=15\n",
    "if (x <10 or y<10):\n",
    "    print(\"hello\")\n",
    "\n",
    "    "
   ]
  },
  {
   "cell_type": "markdown",
   "metadata": {},
   "source": [
    "#### ET logique:"
   ]
  },
  {
   "cell_type": "code",
   "execution_count": 40,
   "metadata": {
    "collapsed": false
   },
   "outputs": [],
   "source": [
    "if(x <10 and  y<10): #&\n",
    "    print(\"ok\")"
   ]
  },
  {
   "cell_type": "markdown",
   "metadata": {},
   "source": [
    "##### NOT X"
   ]
  },
  {
   "cell_type": "code",
   "execution_count": 34,
   "metadata": {
    "collapsed": true
   },
   "outputs": [],
   "source": [
    "z= False"
   ]
  },
  {
   "cell_type": "code",
   "execution_count": 36,
   "metadata": {
    "collapsed": false
   },
   "outputs": [
    {
     "name": "stdout",
     "output_type": "stream",
     "text": [
      "ok\n"
     ]
    }
   ],
   "source": [
    "if (not z): # not false ==true\n",
    "    print (\"ok\")"
   ]
  },
  {
   "cell_type": "markdown",
   "metadata": {},
   "source": [
    "#### 1-2 Opérateurs mathématiques"
   ]
  },
  {
   "cell_type": "markdown",
   "metadata": {},
   "source": [
    "+: entier, réel\n",
    "chaîne de caractères"
   ]
  },
  {
   "cell_type": "code",
   "execution_count": 46,
   "metadata": {
    "collapsed": false
   },
   "outputs": [
    {
     "data": {
      "text/plain": [
       "'Bienvenue Léa'"
      ]
     },
     "execution_count": 46,
     "metadata": {},
     "output_type": "execute_result"
    }
   ],
   "source": [
    "5+5\n",
    "\"Bienvenue\"+\" Léa\""
   ]
  },
  {
   "cell_type": "markdown",
   "metadata": {},
   "source": [
    "-: entier, réel"
   ]
  },
  {
   "cell_type": "code",
   "execution_count": 43,
   "metadata": {
    "collapsed": false
   },
   "outputs": [
    {
     "data": {
      "text/plain": [
       "5"
      ]
     },
     "execution_count": 43,
     "metadata": {},
     "output_type": "execute_result"
    }
   ],
   "source": [
    "15-10\n"
   ]
  },
  {
   "cell_type": "markdown",
   "metadata": {},
   "source": [
    "*: entier, réel, chaîne de caractères"
   ]
  },
  {
   "cell_type": "code",
   "execution_count": 47,
   "metadata": {
    "collapsed": false
   },
   "outputs": [
    {
     "data": {
      "text/plain": [
       "'nnn'"
      ]
     },
     "execution_count": 47,
     "metadata": {},
     "output_type": "execute_result"
    }
   ],
   "source": [
    "3*'n'"
   ]
  },
  {
   "cell_type": "markdown",
   "metadata": {},
   "source": [
    "**: entier, réel"
   ]
  },
  {
   "cell_type": "code",
   "execution_count": 9,
   "metadata": {
    "collapsed": false
   },
   "outputs": [
    {
     "data": {
      "text/plain": [
       "144"
      ]
     },
     "execution_count": 9,
     "metadata": {},
     "output_type": "execute_result"
    }
   ],
   "source": [
    "#puissance\n",
    "12**2  "
   ]
  },
  {
   "cell_type": "markdown",
   "metadata": {},
   "source": [
    "/: entier, réel\n"
   ]
  },
  {
   "cell_type": "code",
   "execution_count": 12,
   "metadata": {
    "collapsed": false
   },
   "outputs": [
    {
     "data": {
      "text/plain": [
       "1.5"
      ]
     },
     "execution_count": 12,
     "metadata": {},
     "output_type": "execute_result"
    }
   ],
   "source": [
    "6/4 "
   ]
  },
  {
   "cell_type": "code",
   "execution_count": 13,
   "metadata": {
    "collapsed": false
   },
   "outputs": [
    {
     "data": {
      "text/plain": [
       "1.5"
      ]
     },
     "execution_count": 13,
     "metadata": {},
     "output_type": "execute_result"
    }
   ],
   "source": [
    "6./4 "
   ]
  },
  {
   "cell_type": "markdown",
   "metadata": {},
   "source": [
    "//:entier, réel\n",
    " "
   ]
  },
  {
   "cell_type": "code",
   "execution_count": 14,
   "metadata": {
    "collapsed": false
   },
   "outputs": [
    {
     "data": {
      "text/plain": [
       "1"
      ]
     },
     "execution_count": 14,
     "metadata": {},
     "output_type": "execute_result"
    }
   ],
   "source": [
    "6//4"
   ]
  },
  {
   "cell_type": "markdown",
   "metadata": {},
   "source": [
    "%: entier, réel"
   ]
  },
  {
   "cell_type": "code",
   "execution_count": 5,
   "metadata": {
    "collapsed": false
   },
   "outputs": [
    {
     "data": {
      "text/plain": [
       "2"
      ]
     },
     "execution_count": 5,
     "metadata": {},
     "output_type": "execute_result"
    }
   ],
   "source": [
    "6%4 "
   ]
  },
  {
   "cell_type": "markdown",
   "metadata": {},
   "source": [
    "#### 1-3 Opérateurs de comparaisons:"
   ]
  },
  {
   "cell_type": "markdown",
   "metadata": {},
   "source": [
    " \n",
    "strictement supérieur    >  \n",
    "strictement inférieur   <  \n",
    "inférieur ou égal  <=  \n",
    "supérieur ou égal  >=  \n",
    "égal ==  \n",
    "!= différent  !=  \n",
    "<> différent, on utilisera de préférence !=   \n",
    "is   \n",
    "is not    \n",
    "in \n"
   ]
  },
  {
   "cell_type": "markdown",
   "metadata": {},
   "source": [
    "### 2-Les types de Variables:"
   ]
  },
  {
   "cell_type": "markdown",
   "metadata": {},
   "source": [
    "**integer**: ce type de donnée est en effet encodé sous la forme d'un\n",
    "bloc de 4 octets (ou 32 bits).    Python utilise le type integer par défaut, chaque fois que\n",
    "cela est possible, c'est-à-dire tant que les valeurs traitées sont des entiers compris environ 2 milliards, en positif ou en négatif.    \n",
    "**long**:  \n",
    "**float**:  par exemple 3.14 ou 10.5  ou .001   sont interpétés comme des float avec python.    \n",
    "**boolan**: true , false"
   ]
  },
  {
   "cell_type": "code",
   "execution_count": 54,
   "metadata": {
    "collapsed": false
   },
   "outputs": [
    {
     "name": "stdout",
     "output_type": "stream",
     "text": [
      "<class 'int'>\n"
     ]
    }
   ],
   "source": [
    "var1=5\n",
    "type(var)\n",
    "var2=21474836472222222222222222222222222222222\n",
    "print(type(var2))"
   ]
  },
  {
   "cell_type": "markdown",
   "metadata": {},
   "source": [
    "### 3- Conditions\n",
    "#### 3-1 If, elif, else"
   ]
  },
  {
   "cell_type": "code",
   "execution_count": 2,
   "metadata": {
    "collapsed": false
   },
   "outputs": [
    {
     "name": "stdout",
     "output_type": "stream",
     "text": [
      "a dépasse la centaine\n"
     ]
    }
   ],
   "source": [
    "a=150\n",
    "if a>100:\n",
    "    print(\"a dépasse la centaine\")"
   ]
  },
  {
   "cell_type": "code",
   "execution_count": 5,
   "metadata": {
    "collapsed": false
   },
   "outputs": [
    {
     "name": "stdout",
     "output_type": "stream",
     "text": [
      "a ne dépasse pas la centaine\n"
     ]
    }
   ],
   "source": [
    "a=20\n",
    "if(a>100):\n",
    "    print(\"a dépasse la centaine\")\n",
    "else:\n",
    "    print(\"a ne dépasse pas la centaine\")"
   ]
  },
  {
   "cell_type": "code",
   "execution_count": 43,
   "metadata": {
    "collapsed": false
   },
   "outputs": [
    {
     "name": "stdout",
     "output_type": "stream",
     "text": [
      "valeur de a: 15\n",
      "valeur de b: 20\n",
      "valeur de c: 25\n",
      "la valeur de delta est:  -1100.0\n",
      "pas de racine réelle\n"
     ]
    }
   ],
   "source": [
    "from math import sqrt\n",
    "\n",
    "a= float(input('valeur de a: '))\n",
    "b= float(input('valeur de b: '))\n",
    "c= float(input('valeur de c: '))\n",
    "delta= b**2-4*a*c\n",
    "print(\"la valeur de delta est: \", delta)\n",
    "\n",
    "if delta<0:\n",
    "    print(\"pas de racine réelle\")\n",
    "elif delta==0:\n",
    "    print(\"une racine: x= \", -b/(2*a))\n",
    "else:\n",
    "    racine=sqrt(delta)\n",
    "    print(\"deux racines: x1= \", (-b+racine)/(2*a),\n",
    "                        \"x2= \", (-b-racine)/(2*a))"
   ]
  },
  {
   "cell_type": "markdown",
   "metadata": {},
   "source": [
    "#### 3-2 if imbriqués:\n",
    " Le else dépend du premier if:\n",
    " \n"
   ]
  },
  {
   "cell_type": "code",
   "execution_count": null,
   "metadata": {
    "collapsed": false
   },
   "outputs": [
    {
     "name": "stdout",
     "output_type": "stream",
     "text": [
      "valeur de a: 10\n",
      "valeur de b: 20\n",
      "case 1\n"
     ]
    }
   ],
   "source": [
    "a= float (input('valeur de a: '))\n",
    "b= float (input('valeur de b: '))\n",
    "\n",
    "if a >0:\n",
    "    if b>0:\n",
    "        print(\"case 1\")\n",
    "    else:\n",
    "        print(\"case 2\")"
   ]
  },
  {
   "cell_type": "code",
   "execution_count": 1,
   "metadata": {
    "collapsed": false
   },
   "outputs": [
    {
     "name": "stdout",
     "output_type": "stream",
     "text": [
      "valeur de a: -10\n",
      "valeur de b: 0\n",
      "case 2\n"
     ]
    }
   ],
   "source": [
    "a= float (input('valeur de a: '))\n",
    "b= float (input('valeur de b: '))\n",
    "\n",
    "if a >0:\n",
    "    if b>0:\n",
    "        print(\"case 1\")\n",
    "else:\n",
    "        print(\"case 2\")"
   ]
  },
  {
   "cell_type": "code",
   "execution_count": 3,
   "metadata": {
    "collapsed": false
   },
   "outputs": [
    {
     "name": "stdout",
     "output_type": "stream",
     "text": [
      "valeur de a: 12\n",
      "valeur de b: 15\n"
     ]
    },
    {
     "data": {
      "text/plain": [
       "'1215'"
      ]
     },
     "execution_count": 3,
     "metadata": {},
     "output_type": "execute_result"
    }
   ],
   "source": [
    "a=  (input('valeur de a: '))\n",
    "b=  (input('valeur de b: '))\n",
    "a+b\n"
   ]
  },
  {
   "cell_type": "markdown",
   "metadata": {},
   "source": [
    "#### Astuces:\n",
    "\n",
    "1- On peut séparer plusieurs intructions sur la même ligne par ';'\n",
    "\n",
    "2- Une entrée dans le clavier = String "
   ]
  },
  {
   "cell_type": "code",
   "execution_count": 2,
   "metadata": {
    "collapsed": false
   },
   "outputs": [
    {
     "name": "stdout",
     "output_type": "stream",
     "text": [
      "valeur de a: 22\n"
     ]
    },
    {
     "data": {
      "text/plain": [
       "str"
      ]
     },
     "execution_count": 2,
     "metadata": {},
     "output_type": "execute_result"
    }
   ],
   "source": [
    "a= input('valeur de a: ')\n",
    "type(a)"
   ]
  },
  {
   "cell_type": "markdown",
   "metadata": {},
   "source": [
    "### 4- Boucles\n",
    "#### 4-1 While\n",
    "##### Exemple 1"
   ]
  },
  {
   "cell_type": "code",
   "execution_count": 5,
   "metadata": {
    "collapsed": false
   },
   "outputs": [
    {
     "name": "stdout",
     "output_type": "stream",
     "text": [
      "5\n",
      "7\n",
      "9\n",
      "11\n",
      "Fin du programme\n"
     ]
    }
   ],
   "source": [
    "i=3\n",
    "while i<10:\n",
    "    i=i+2\n",
    "    print(i)\n",
    "print(\"Fin du programme\")"
   ]
  },
  {
   "cell_type": "markdown",
   "metadata": {},
   "source": [
    "##### Example 2\n",
    "Voir syllabus page 22"
   ]
  },
  {
   "cell_type": "markdown",
   "metadata": {},
   "source": [
    "#### 4-2 For"
   ]
  },
  {
   "cell_type": "code",
   "execution_count": 8,
   "metadata": {
    "collapsed": false
   },
   "outputs": [
    {
     "name": "stdout",
     "output_type": "stream",
     "text": [
      "0\n",
      "1\n",
      "2\n",
      "3\n",
      "4\n",
      "5\n",
      "6\n",
      "7\n",
      "8\n",
      "9\n"
     ]
    }
   ],
   "source": [
    "for i in range(10):\n",
    "    print (i)"
   ]
  },
  {
   "cell_type": "markdown",
   "metadata": {},
   "source": [
    "#### Astuces:\n",
    "L'instruction \"Break\"    \n",
    "L'instruction \"pass\"    \n",
    "L'instruction \"Continue\" ** Voir plus loin **    \n"
   ]
  },
  {
   "cell_type": "code",
   "execution_count": 13,
   "metadata": {
    "collapsed": false
   },
   "outputs": [
    {
     "name": "stdout",
     "output_type": "stream",
     "text": [
      "0\n",
      "1\n",
      "2\n",
      "3\n",
      "4\n",
      "5\n",
      "6\n",
      "7\n"
     ]
    }
   ],
   "source": [
    "for i in range(10):\n",
    "    print (i)\n",
    "    if i==7:\n",
    "        break\n",
    "        "
   ]
  },
  {
   "cell_type": "code",
   "execution_count": 22,
   "metadata": {
    "collapsed": false
   },
   "outputs": [
    {
     "name": "stdout",
     "output_type": "stream",
     "text": [
      "0\n",
      "1\n",
      "2\n",
      "3\n",
      "4\n",
      "5\n",
      "6\n",
      "8\n",
      "9\n"
     ]
    }
   ],
   "source": [
    "for i in range(10):\n",
    "    if (i!=7):\n",
    "        print (i)\n",
    "    else:\n",
    "        pass # TODO LATER\n",
    "        \n",
    "        "
   ]
  },
  {
   "cell_type": "markdown",
   "metadata": {},
   "source": [
    "### 5- Fonctions:\n",
    "### 5-1 Fonctions existantes\n",
    "exemple: print , sum, len \n",
    "### 5-2 Nouvelles fonctions\n",
    "##### 5-2-1 Fonction retournant une valeur"
   ]
  },
  {
   "cell_type": "code",
   "execution_count": 11,
   "metadata": {
    "collapsed": false
   },
   "outputs": [
    {
     "name": "stdout",
     "output_type": "stream",
     "text": [
      "0.8333333333333334 .....ahhhaaa c'est vraiment simple\n"
     ]
    }
   ],
   "source": [
    "def diviser (x,y):\n",
    "    z=x/y\n",
    "    return (z)\n",
    "# diviser : Nom de la fonction\n",
    "# x, y: paramètres de la fonction\n",
    "# appel de  la fonction\n",
    "# passage des paramètres\n",
    "print (diviser(5, 6), \".....ahhhaaa c'est vraiment simple\")"
   ]
  },
  {
   "cell_type": "markdown",
   "metadata": {},
   "source": [
    "##### 5-2-2 Fonction ne retournant pas une valeur"
   ]
  },
  {
   "cell_type": "code",
   "execution_count": 47,
   "metadata": {
    "collapsed": false
   },
   "outputs": [
    {
     "name": "stdout",
     "output_type": "stream",
     "text": [
      "c'est vraiment simple !!!!\n"
     ]
    }
   ],
   "source": [
    "\n",
    "def afficher(message):\n",
    "    print(message)\n",
    "\n",
    "afficher(\"c'est vraiment simple !!!!\")"
   ]
  },
  {
   "cell_type": "markdown",
   "metadata": {},
   "source": [
    "### 6- Chaines de caractères (String) :"
   ]
  },
  {
   "cell_type": "code",
   "execution_count": 14,
   "metadata": {
    "collapsed": false
   },
   "outputs": [
    {
     "name": "stdout",
     "output_type": "stream",
     "text": [
      "Comment ça marche avec le cours?\n",
      "....Super...!!!\n",
      "7\n",
      "On continue alors :)\n",
      "la taille de ma chaine: 32\n",
      "C\n",
      "?\n",
      "?\n",
      "Comment ça marche\n",
      "Cmetç aceae ecus\n",
      "?sruoc el ceva ehcram aç tnemmoC\n"
     ]
    }
   ],
   "source": [
    "ma_chaine_de_caractere =\"Comment ça marche avec le cours?\"\n",
    "print(ma_chaine_de_caractere)\n",
    "response=\"....Super...!!!\"\n",
    "print(response)\n",
    "print(len(\"Bonjour\"))\n",
    "#concaténation\n",
    "print( \"On continue \" + \"alors :)\")\n",
    "\n",
    "# la taille du string \n",
    "taille =len(ma_chaine_de_caractere)\n",
    "print(\"la taille de ma chaine:\" , taille)\n",
    "\n",
    "#accéder à un caractère spécifique dans le string\n",
    "# NB: La première lettre commence à l'indice 0\n",
    "print(ma_chaine_de_caractere[0])#==> affiche la lettre C\n",
    "\n",
    "# la dernière lettre se trouve à l'indice len-1\n",
    "print(ma_chaine_de_caractere[taille-1])# synonyme de [0:]\n",
    "\n",
    "# python permet aussi d'utiliser des indices negatifs\n",
    "print(ma_chaine_de_caractere[-1])\n",
    "\n",
    "#slice: avoir une parti du string \n",
    "print(ma_chaine_de_caractere[0:17])#synonyme de [:17]  prend 16 caracteres\n",
    "\n",
    "#afficher les caractères paires\n",
    "print(ma_chaine_de_caractere[::2])\n",
    "\n",
    "#afficher le string dans le sens inverse impaires\n",
    "print(ma_chaine_de_caractere[::-1])\n"
   ]
  },
  {
   "cell_type": "markdown",
   "metadata": {},
   "source": [
    "#### Astuces:\n",
    "Un string en python est une sequence immuable: On ne peut donc pas la modifier"
   ]
  },
  {
   "cell_type": "code",
   "execution_count": 16,
   "metadata": {
    "collapsed": false
   },
   "outputs": [
    {
     "name": "stdout",
     "output_type": "stream",
     "text": [
      "Bonjour\n"
     ]
    }
   ],
   "source": [
    "s=\"bonjour\"\n",
    "#s[0]=B # provoque une erreur\n",
    "#Pour modifier s il faut créer une nouvelle variable\n",
    "s= \"B\"+s[1:]\n",
    "print(s)"
   ]
  },
  {
   "cell_type": "markdown",
   "metadata": {},
   "source": [
    "##### 6-1 Parourir un string:\n"
   ]
  },
  {
   "cell_type": "code",
   "execution_count": 28,
   "metadata": {
    "collapsed": false
   },
   "outputs": [
    {
     "name": "stdout",
     "output_type": "stream",
     "text": [
      "J\n",
      "e\n",
      " \n",
      "v\n",
      "a\n",
      "i\n",
      "s\n",
      " \n",
      "r\n",
      "é\n",
      "u\n",
      "s\n",
      "s\n",
      "i\n",
      "r\n",
      " \n",
      "c\n",
      "e\n",
      " \n",
      "c\n",
      "o\n",
      "u\n",
      "r\n",
      "s\n",
      " \n",
      ".\n",
      ".\n",
      ".\n",
      ".\n",
      "y\n",
      "e\n",
      "s\n",
      " \n",
      "I\n",
      " \n",
      "c\n",
      "a\n",
      "n\n"
     ]
    }
   ],
   "source": [
    "s= \"Je vais réussir ce cours ....yes I can\"\n",
    "for carac in s:\n",
    "    print (carac)"
   ]
  },
  {
   "cell_type": "markdown",
   "metadata": {},
   "source": [
    "##### 6-2 Le test \"in\":\n"
   ]
  },
  {
   "cell_type": "code",
   "execution_count": 29,
   "metadata": {
    "collapsed": false
   },
   "outputs": [
    {
     "name": "stdout",
     "output_type": "stream",
     "text": [
      "yes\n"
     ]
    }
   ],
   "source": [
    "s= \"Je vais réussir ce cours ....yes I can\"\n",
    "if \"J\" in s:\n",
    "    print (\"yes\")"
   ]
  },
  {
   "cell_type": "markdown",
   "metadata": {},
   "source": [
    "##### 6-3 Comparaison de strings:\n",
    "Les opérateurs relationels <, <=, >, =>, ==, != permettent de comparer les strings(codification UTF-8).    \n",
    "ord(c) donne un entier correspondant à la codification du caractère  c.    \n",
    "chr(i) donne le caractère correspondant au code i."
   ]
  },
  {
   "cell_type": "code",
   "execution_count": 21,
   "metadata": {
    "collapsed": false
   },
   "outputs": [
    {
     "name": "stdout",
     "output_type": "stream",
     "text": [
      "97\n",
      "98\n",
      "122\n",
      "121\n",
      "False\n"
     ]
    }
   ],
   "source": [
    "print(ord(\"a\"))\n",
    "print(ord('b'))\n",
    "print(ord('z'))\n",
    "print(ord('y'))\n",
    "s=\"br\"\n",
    "t=\"by\"\n",
    "print (s>t)"
   ]
  },
  {
   "cell_type": "markdown",
   "metadata": {},
   "source": [
    "### 7- Les Tuples:\n",
    "- Une séquence **immuable** d'éléments.   \n",
    "- Les éléments peuvent être du même type ou de type different.\n"
   ]
  },
  {
   "cell_type": "code",
   "execution_count": 26,
   "metadata": {
    "collapsed": false
   },
   "outputs": [
    {
     "name": "stdout",
     "output_type": "stream",
     "text": [
      "('François', 'DUPONT')\n",
      "DUPONT\n",
      "(1, (2, 3))\n",
      "('Rue de la fontaine', 'N°06', ' CP 1300')\n"
     ]
    },
    {
     "data": {
      "text/plain": [
       "11"
      ]
     },
     "execution_count": 26,
     "metadata": {},
     "output_type": "execute_result"
    }
   ],
   "source": [
    "x= (\"François\", \"DUPONT\")\n",
    "# les parenthèses ne sont pas indisponsables, mais sont utiles pour mieux séparer les éléments\n",
    "print (x)\n",
    "print(x[1])\n",
    "x[0]\n",
    "#\n",
    "y=(2,3)\n",
    "x=( 1, y )\n",
    "print(x)\n",
    "\n",
    "#\n",
    "adresse=(\"Rue de la fontaine\", \"N°06\", \" CP 1300\")\n",
    "print(adresse)\n",
    "# Les tuple sert aussi  à renvoyer plusieurs valeurs dans une fonction\n",
    "t=(5, 6)\n",
    "sum(t)"
   ]
  },
  {
   "cell_type": "code",
   "execution_count": 27,
   "metadata": {
    "collapsed": false
   },
   "outputs": [
    {
     "name": "stdout",
     "output_type": "stream",
     "text": [
      "(1, 2, 3, 4)\n"
     ]
    },
    {
     "ename": "ValueError",
     "evalue": "too many values to unpack (expected 3)",
     "output_type": "error",
     "traceback": [
      "\u001b[0;31m---------------------------------------------------------------------------\u001b[0m",
      "\u001b[0;31mValueError\u001b[0m                                Traceback (most recent call last)",
      "\u001b[0;32m<ipython-input-27-bbef3e4b2b21>\u001b[0m in \u001b[0;36m<module>\u001b[0;34m()\u001b[0m\n\u001b[1;32m      1\u001b[0m \u001b[0ms\u001b[0m\u001b[1;33m=\u001b[0m\u001b[1;33m(\u001b[0m\u001b[1;36m1\u001b[0m\u001b[1;33m,\u001b[0m \u001b[1;36m2\u001b[0m\u001b[1;33m,\u001b[0m \u001b[1;36m3\u001b[0m\u001b[1;33m,\u001b[0m\u001b[1;36m4\u001b[0m\u001b[1;33m)\u001b[0m\u001b[1;33m\u001b[0m\u001b[0m\n\u001b[1;32m      2\u001b[0m \u001b[0mprint\u001b[0m\u001b[1;33m(\u001b[0m\u001b[0ms\u001b[0m\u001b[1;33m)\u001b[0m\u001b[1;33m\u001b[0m\u001b[0m\n\u001b[0;32m----> 3\u001b[0;31m \u001b[0ma\u001b[0m\u001b[1;33m,\u001b[0m \u001b[0mb\u001b[0m\u001b[1;33m,\u001b[0m \u001b[0mc\u001b[0m\u001b[1;33m=\u001b[0m \u001b[0ms\u001b[0m\u001b[1;33m\u001b[0m\u001b[0m\n\u001b[0m\u001b[1;32m      4\u001b[0m \u001b[0mprint\u001b[0m\u001b[1;33m(\u001b[0m\u001b[0ma\u001b[0m\u001b[1;33m,\u001b[0m \u001b[0mb\u001b[0m\u001b[1;33m,\u001b[0m \u001b[0mc\u001b[0m\u001b[1;33m)\u001b[0m\u001b[1;33m\u001b[0m\u001b[0m\n",
      "\u001b[0;31mValueError\u001b[0m: too many values to unpack (expected 3)"
     ]
    }
   ],
   "source": [
    "s=(1, 2, 3)\n",
    "print(s)\n",
    "a, b, c= s\n",
    "print(a, b, c)"
   ]
  },
  {
   "cell_type": "markdown",
   "metadata": {
    "collapsed": true
   },
   "source": [
    "### 8- Listes:\n",
    "- Une séquence muable (modifiable).\n",
    "- Contient des éléments de même tye ou de types differents.\n",
    "- Peut contenir une liste de listes."
   ]
  },
  {
   "cell_type": "code",
   "execution_count": 29,
   "metadata": {
    "collapsed": true
   },
   "outputs": [],
   "source": [
    "my_list=[1, 3, 7]"
   ]
  },
  {
   "cell_type": "code",
   "execution_count": 30,
   "metadata": {
    "collapsed": false
   },
   "outputs": [
    {
     "data": {
      "text/plain": [
       "['bon', 'jour', 0, 1, [2, 3, 4]]"
      ]
     },
     "execution_count": 30,
     "metadata": {},
     "output_type": "execute_result"
    }
   ],
   "source": [
    "data=['bon', 'jour', 0, 1, [2, 3, 4]]\n",
    "data"
   ]
  },
  {
   "cell_type": "markdown",
   "metadata": {},
   "source": [
    "#### 8.1- Accéder à un élément dans la liste:\n",
    "- 1- Le premier élément dans la liste se trouve à l'indice 0: my_list[0]\n",
    "- 2- Nombre d'élément dans une liste: Len(list)\n",
    "- 3- Une liste vide: empty=[]\n",
    "- 4- Type des éléments constituant une liste: type(data[4])\n",
    "- 5- Acceéder au dernier élément dans une liste: data[-1]"
   ]
  },
  {
   "cell_type": "code",
   "execution_count": 32,
   "metadata": {
    "collapsed": false
   },
   "outputs": [
    {
     "name": "stdout",
     "output_type": "stream",
     "text": [
      "5\n",
      "<class 'list'>\n"
     ]
    },
    {
     "data": {
      "text/plain": [
       "[2, 3, 4]"
      ]
     },
     "execution_count": 32,
     "metadata": {},
     "output_type": "execute_result"
    }
   ],
   "source": [
    "#1\n",
    "my_list[0]\n",
    "\n",
    "#2\n",
    "print(len(data))\n",
    "\n",
    "#3\n",
    "print(type(data[4]))\n",
    "\n",
    "\n",
    "#4\n",
    "empty=[]\n",
    "\n",
    "#5\n",
    "data[-1]"
   ]
  },
  {
   "cell_type": "markdown",
   "metadata": {},
   "source": [
    "#### 8.2- Copie d'une Liste"
   ]
  },
  {
   "cell_type": "code",
   "execution_count": 21,
   "metadata": {
    "collapsed": false
   },
   "outputs": [
    {
     "name": "stdout",
     "output_type": "stream",
     "text": [
      "[5, 3, 7]\n",
      "[5, 3, 7]\n",
      "[36, 3, 7]\n",
      "[36, 3, 7]\n"
     ]
    }
   ],
   "source": [
    "t=[5, 3, 7]\n",
    "s=t #s et t référencient le même objet\n",
    "\n",
    "print (t) \n",
    "print (s) \n",
    "t[0]=36\n",
    "print (t) \n",
    "print (s)"
   ]
  },
  {
   "cell_type": "markdown",
   "metadata": {},
   "source": [
    "- Safe copy"
   ]
  },
  {
   "cell_type": "code",
   "execution_count": 22,
   "metadata": {
    "collapsed": false
   },
   "outputs": [
    {
     "name": "stdout",
     "output_type": "stream",
     "text": [
      "[5, 3, 7]\n"
     ]
    }
   ],
   "source": [
    "t=[5, 3, 7]\n",
    "safe_copy=t[:]\n",
    "t[0]=36\n",
    "print(safe_copy)\n"
   ]
  },
  {
   "cell_type": "markdown",
   "metadata": {},
   "source": [
    "#### 8-3 Les méthode pour  manipuler une liste:\n",
    "- 1- append: rajout un élément à la fin de la list\n",
    "- 2- extend:\n",
    "- 3- insert: insert un élément à la position souhaitée"
   ]
  },
  {
   "cell_type": "code",
   "execution_count": 36,
   "metadata": {
    "collapsed": false
   },
   "outputs": [
    {
     "name": "stdout",
     "output_type": "stream",
     "text": [
      "[5, 10, 20]\n",
      "[5, 10, 20, 30]\n",
      "[5, 10, 20, 30, 40, 50]\n",
      "[5, 10, 20, 30, 40, 50, 60, 70]\n",
      "[5, 10, 20, 30, 35, 40, 50, 60, 70, 80, 90, 100]\n"
     ]
    }
   ],
   "source": [
    "t=[5, 10, 15]\n",
    "#on peut modifier un élément dans une liste (muable)\n",
    "t[2]=20 \n",
    "print(t)\n",
    "\n",
    "# t[3] #donne une erreur la meilleure solution est d'utiliser append\n",
    "t.append(30)\n",
    "print(t)\n",
    "\n",
    "# ou faire comme ceci:\n",
    "t[len(t):len(t)]=[40] # ceci est équivalent à:\n",
    "t[5:5]=[50] # rjoute à la position 5\n",
    "print(t)\n",
    "t[6:7]=[60,70]\n",
    "print(t)\n",
    "\n",
    "# t.exend(): rajoute à t les éléments de la liste en paramètre\n",
    "t.extend([80, 90, 100])\n",
    "\n",
    "# t.insert(): insert un élément à la position souhaitée\n",
    "t.insert(4, 35) # insert l'élément 35 à la position 4\n",
    "print(t)\n",
    "\n"
   ]
  },
  {
   "cell_type": "markdown",
   "metadata": {},
   "source": [
    "#### 8-4  Liste et références:"
   ]
  },
  {
   "cell_type": "code",
   "execution_count": 44,
   "metadata": {
    "collapsed": false
   },
   "outputs": [
    {
     "name": "stdout",
     "output_type": "stream",
     "text": [
      "[1, 2, 3, 4]\n",
      "[1, 2, 3, 4]\n"
     ]
    },
    {
     "data": {
      "text/plain": [
       "True"
      ]
     },
     "execution_count": 44,
     "metadata": {},
     "output_type": "execute_result"
    }
   ],
   "source": [
    "s=[1,2,3]\n",
    "t=s\n",
    "s.append(4)\n",
    "\n",
    "print(s)\n",
    "print(t)\n",
    "s is t"
   ]
  },
  {
   "cell_type": "markdown",
   "metadata": {},
   "source": [
    "** Astuce:**    \n",
    "- Variable Locale:    \n",
    "- Variable Globale:    "
   ]
  },
  {
   "cell_type": "code",
   "execution_count": 9,
   "metadata": {
    "collapsed": false
   },
   "outputs": [
    {
     "name": "stdout",
     "output_type": "stream",
     "text": [
      "x vaut:  6\n",
      "x vaut:  7\n",
      "x vaut:  8\n",
      "x vaut:  9\n",
      "x vaut:  10\n",
      "5\n"
     ]
    }
   ],
   "source": [
    "y=5\n",
    "def localeVsGlobale(x):\n",
    "    for i in range(5):\n",
    "        x=x+1\n",
    "        #print (\"y vaut: \", y, end=' '): Ceci imprime sur la même ligne.\n",
    "        print (\"x vaut: \", x)\n",
    "\n",
    "localeVsGlobale(y)\n",
    "\n",
    "print(y)\n"
   ]
  },
  {
   "cell_type": "markdown",
   "metadata": {},
   "source": [
    "#### 8-5 Les séquences:"
   ]
  },
  {
   "cell_type": "code",
   "execution_count": 71,
   "metadata": {
    "collapsed": false
   },
   "outputs": [
    {
     "name": "stdout",
     "output_type": "stream",
     "text": [
      "5\n",
      "6\n",
      "7\n",
      "8\n",
      "9\n"
     ]
    }
   ],
   "source": [
    "range(5, 10)\n",
    "for i in range(5, 10):\n",
    "    print (i)"
   ]
  },
  {
   "cell_type": "markdown",
   "metadata": {},
   "source": [
    "#### Les séquences:  Rang\n",
    "\n",
    "- range(from, to)\n",
    "- range(10): donne une séquence de 0 à 10 (non compris).\n",
    "- range(5,10): donne une séquence de 5 à 10 (non compris)."
   ]
  },
  {
   "cell_type": "code",
   "execution_count": 62,
   "metadata": {
    "collapsed": false
   },
   "outputs": [
    {
     "name": "stdout",
     "output_type": "stream",
     "text": [
      "range(0, 10)\n",
      "range(5, 10)\n",
      "5\n",
      "6\n",
      "7\n",
      "8\n",
      "9\n"
     ]
    }
   ],
   "source": [
    "print(range(10))\n",
    "print(range (5,10))\n",
    "#\n",
    "for i in range(5, 10):\n",
    "    print(i)"
   ]
  },
  {
   "cell_type": "raw",
   "metadata": {},
   "source": []
  }
 ],
 "metadata": {
  "kernelspec": {
   "display_name": "Python 3",
   "language": "python",
   "name": "python3"
  },
  "language_info": {
   "codemirror_mode": {
    "name": "ipython",
    "version": 3
   },
   "file_extension": ".py",
   "mimetype": "text/x-python",
   "name": "python",
   "nbconvert_exporter": "python",
   "pygments_lexer": "ipython3",
   "version": "3.6.0"
  }
 },
 "nbformat": 4,
 "nbformat_minor": 2
}
